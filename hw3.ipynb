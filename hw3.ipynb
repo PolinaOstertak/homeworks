{
 "cells": [
  {
   "cell_type": "markdown",
   "metadata": {},
   "source": [
    "Задание 1. Вводится список чисел через пробел. Поменяйте в этом списке самое маленькое и самое большое число местами, н-р, список 4 2 6 3 7 5 должен превратиться в 4 7 6 3 2 5"
   ]
  },
  {
   "cell_type": "code",
   "execution_count": null,
   "metadata": {},
   "outputs": [],
   "source": [
    "A = [int(x) for x in input().split()]\n",
    "A[A.index(max(A))], A[A.index(min(A))] = A[A.index(min(A))], A[A.index(max(A))]\n",
    "A"
   ]
  },
  {
   "cell_type": "markdown",
   "metadata": {},
   "source": [
    "Задание 2. Вводится список (чего угодно, как угодно). Нужно все элементы поменять местами, н-р, список вида 1 2 3 4 5 превращается в 2 1 4 3 5."
   ]
  },
  {
   "cell_type": "code",
   "execution_count": null,
   "metadata": {},
   "outputs": [],
   "source": [
    "A = input().split()\n",
    "for i in range(0, len(A) - 1, 2):\n",
    "  A[i], A[i + 1] = A[i + 1], A[i]\n",
    "A"
   ]
  },
  {
   "cell_type": "markdown",
   "metadata": {},
   "source": [
    "Задание 3. Петя перешёл в другую школу. На уроке физкультуры ему понадобилось определить своё место в строю. Помогите ему это сделать.\n",
    "\n",
    "Программа получает на вход невозрастающую последовательность натуральных чисел, означающих рост каждого человека в строю. После этого вводится число X – рост Пети. Все числа во входных данных натуральные и не превышают 200.\n",
    "\n",
    "Выведите номер, под которым Петя должен встать в строй. Если в строю есть люди с одинаковым ростом, таким же, как у Пети, то он должен встать после них."
   ]
  },
  {
   "cell_type": "code",
   "execution_count": null,
   "metadata": {},
   "outputs": [],
   "source": [
    "A = [int(r) for r in input().split()]\n",
    "x = int(input())\n",
    "if x not in A:\n",
    "  A.append(x)\n",
    "  A.sort()\n",
    "  t = A.index(x)\n",
    "elif x in A:\n",
    "  c = A.count(x)\n",
    "  A.append(x)\n",
    "  A.sort()\n",
    "  t = A.index(x) + c\n",
    "print(t + 1)"
   ]
  },
  {
   "cell_type": "markdown",
   "metadata": {},
   "source": [
    "Задание 4. Известно, что на доске 8х8 можно расставить 8 ферзей так, чтобы они не били друг друга. Вам дана расстановка 8 ферзей на доске, определите, есть ли среди них пара бьющих друг друга. Программа получает на вход восемь пар чисел, каждое число от 1 до 8 — координаты 8 ферзей. Если ферзи не бьют друг друга, выведите слово NO, иначе выведите YES."
   ]
  },
  {
   "cell_type": "code",
   "execution_count": null,
   "metadata": {},
   "outputs": [],
   "source": [
    "A = []\n",
    "B = []\n",
    "for i in range(8):\n",
    "  a, b = [int(x) for x in input().split()]\n",
    "  A.append(a)\n",
    "  B.append(b)\n",
    "for i in range(8):\n",
    "  for j in range(i + 1, 8):\n",
    "    if A[i] == A[j] or B[i] == B[j] or (A[i] - B[i]) == (A[j] - B[j]) or (A[i] + B[i]) == (A[j] + B[j]):\n",
    "      y = 1\n",
    "if y == 1:\n",
    "  print('YES')\n",
    "else:\n",
    "  print('NO')"
   ]
  },
  {
   "cell_type": "markdown",
   "metadata": {},
   "source": [
    "Задание 5. Дан список. Удалите из списка все повторы, то есть, оставьте в списке каждый элемент только в одном экземпляре (остаться должно только первое появление элемента в списке). Программа не должна использовать дополнительную память: это означает, что нельзя пользоваться множествами и генераторами, можно только производить изменения в самом списке."
   ]
  },
  {
   "cell_type": "code",
   "execution_count": null,
   "metadata": {},
   "outputs": [],
   "source": [
    "A = [int(x) for x in input().split()]\n",
    "A.reverse()\n",
    "for i in A:\n",
    "  if A.count(i) > 1:\n",
    "    A.remove(i)\n",
    "A.reverse()\n",
    "A"
   ]
  },
  {
   "cell_type": "markdown",
   "metadata": {},
   "source": [
    "Задание 6. На вход программе даётся число N и список. Удалите из списка все элементы, которые встречаются в нём ровно N раз. Программа не должна использовать дополнительную память."
   ]
  },
  {
   "cell_type": "code",
   "execution_count": null,
   "metadata": {},
   "outputs": [],
   "source": [
    "n = int(input())\n",
    "A = input().split()\n",
    "for i in A:\n",
    "  if A.count(i) == n:\n",
    "      A.remove(i)\n",
    "      while A.count(i) > 0:\n",
    "        A.remove(i)\n",
    "A"
   ]
  },
  {
   "cell_type": "markdown",
   "metadata": {},
   "source": [
    "Задание 7. На вход программе даётся число X и список чисел. Удалите из списка все вхождения элемента X. Программа должна работать за линейное время."
   ]
  },
  {
   "cell_type": "code",
   "execution_count": null,
   "metadata": {},
   "outputs": [],
   "source": [
    "import time\n",
    "\n",
    "D = int(input())\n",
    "L = [1, 2, 1, 2, 3, 4, 5, 6] * D\n",
    "N = int(input())\n",
    "\n",
    "t = time.time()\n",
    "x = int(input())\n",
    "A = [int(s) for s in input().split()]\n",
    "while A.count(x) > 0:\n",
    "  A.remove(x)\n",
    "print(A)\n",
    "print(time.time() - t)\n",
    "print(L[:30])"
   ]
  },
  {
   "cell_type": "markdown",
   "metadata": {},
   "source": [
    "Задание 10. Напишите функцию, которая принимает строчку и возвращает порядковые номера всех букв в этой строчке в виде списка (напоминаю, что порядковый номер буквы в юникоде возвращает ord('c'))."
   ]
  },
  {
   "cell_type": "code",
   "execution_count": null,
   "metadata": {},
   "outputs": [],
   "source": [
    "def num(r):\n",
    "  r.split()\n",
    "  A = []\n",
    "  for i in r:\n",
    "    A.append(ord(i))\n",
    "  print(A)\n",
    "d = num(input())\n"
   ]
  }
 ],
 "metadata": {
  "language_info": {
   "name": "python"
  },
  "orig_nbformat": 4
 },
 "nbformat": 4,
 "nbformat_minor": 2
}
