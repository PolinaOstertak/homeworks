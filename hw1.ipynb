{
 "cells": [
  {
   "cell_type": "code",
   "execution_count": 3,
   "id": "e6a3eef5-eea4-403b-a31c-4629ab8eab89",
   "metadata": {},
   "outputs": [
    {
     "name": "stdin",
     "output_type": "stream",
     "text": [
      "Введите число  58485498594\n"
     ]
    },
    {
     "name": "stdout",
     "output_type": "stream",
     "text": [
      "4\n"
     ]
    }
   ],
   "source": [
    "# Задача 3 (семинар)\n",
    "a = int (input ('Введите число '))\n",
    "print (a % 10)\n"
   ]
  },
  {
   "cell_type": "code",
   "execution_count": 4,
   "id": "5f287d23-2119-4999-ad87-8dc412a9007a",
   "metadata": {},
   "outputs": [
    {
     "name": "stdin",
     "output_type": "stream",
     "text": [
      "Введите число  0.75858\n"
     ]
    },
    {
     "name": "stdout",
     "output_type": "stream",
     "text": [
      "75\n"
     ]
    }
   ],
   "source": [
    "# Задача 4 (семинар)\n",
    "a = float (input ('Введите число '))\n",
    "b =  int (a * 100)\n",
    "print (b % 100)"
   ]
  },
  {
   "cell_type": "code",
   "execution_count": 5,
   "id": "07b212af-92f3-420f-afc2-d939c650e7ef",
   "metadata": {},
   "outputs": [
    {
     "name": "stdin",
     "output_type": "stream",
     "text": [
      "Введите длину 1-ого катета  6\n",
      "Введите длину 2-ого катета  2\n"
     ]
    },
    {
     "name": "stdout",
     "output_type": "stream",
     "text": [
      "Длина гипотенузы: 6.324555320336759\n"
     ]
    }
   ],
   "source": [
    "# Задача 5 (семинар)\n",
    "a = int (input ('Введите длину 1-ого катета '))\n",
    "b = int (input ('Введите длину 2-ого катета '))\n",
    "print (f'Длина гипотенузы: {(a ** 2 + b ** 2) ** 0.5}')"
   ]
  },
  {
   "cell_type": "code",
   "execution_count": 6,
   "id": "6eededfe-7527-455c-a969-a06079d526db",
   "metadata": {},
   "outputs": [
    {
     "name": "stdin",
     "output_type": "stream",
     "text": [
      "Введите трехзначное чило  537\n"
     ]
    },
    {
     "name": "stdout",
     "output_type": "stream",
     "text": [
      "15\n"
     ]
    }
   ],
   "source": [
    "# Задача 1\n",
    "a = int(input('Введите трехзначное чило '))\n",
    "b = a // 100\n",
    "c = (a // 10) % 10\n",
    "d = a % 10\n",
    "print (int(b + c + d))"
   ]
  },
  {
   "cell_type": "code",
   "execution_count": 8,
   "id": "cc3e213a-e3cd-4c57-9e24-c8511cd948b0",
   "metadata": {},
   "outputs": [
    {
     "name": "stdin",
     "output_type": "stream",
     "text": [
      "Ставка по вкладу  15\n",
      "Количество рублей на вкладе  735\n",
      "Количество копеек на вкладе  83\n"
     ]
    },
    {
     "name": "stdout",
     "output_type": "stream",
     "text": [
      "Величина вклада через год в рублях:  846\n",
      "Величина вклада через год в копейках:  20\n"
     ]
    }
   ],
   "source": [
    "# Задача 2\n",
    "p = int(input('Ставка по вкладу '))\n",
    "x = int(input('Количество рублей на вкладе '))\n",
    "y = int(input('Количество копеек на вкладе '))\n",
    "a = y + (y / 100 * p)\n",
    "if a < 100:\n",
    "  c = a\n",
    "else:\n",
    "  c = a % 100\n",
    "b = x + (x / 100 * p)\n",
    "if a < 100:\n",
    "  d = b\n",
    "else:\n",
    "  d = b + (a // 100)\n",
    "if (d * 100) % 100 != 0:\n",
    "  k = c + ((d * 100) % 100)\n",
    "else:\n",
    "  k = c\n",
    "if k > 99:\n",
    "  m = k % 100\n",
    "else:\n",
    "  m = k\n",
    "if k > 99:\n",
    "  r = int(d + (k // 100))\n",
    "else:\n",
    "  r = int(d)\n",
    "print ('Величина вклада через год в рублях: ', r)\n",
    "print ('Величина вклада через год в копейках: ', int (m))"
   ]
  },
  {
   "cell_type": "code",
   "execution_count": 10,
   "id": "4f865a4a-4583-4f8f-b5f0-ded64f15cd16",
   "metadata": {},
   "outputs": [
    {
     "name": "stdin",
     "output_type": "stream",
     "text": [
      "Введите число  638\n"
     ]
    },
    {
     "name": "stdout",
     "output_type": "stream",
     "text": [
      "127\n"
     ]
    }
   ],
   "source": [
    "# Задача 3\n",
    "a = int(input ('Введите число '))\n",
    "if a <= 99:\n",
    "  b = a * 8 % 6\n",
    "else:\n",
    "  if a % 3 == 0:\n",
    "    b = int((a / 3) ** 2)\n",
    "  else:\n",
    "    b = a // 5\n",
    "print(b)"
   ]
  },
  {
   "cell_type": "code",
   "execution_count": 12,
   "id": "9a37d01b-9644-4cf7-b603-253ba4dcd879",
   "metadata": {},
   "outputs": [
    {
     "name": "stdin",
     "output_type": "stream",
     "text": [
      "Введите целое число  3\n"
     ]
    },
    {
     "name": "stdout",
     "output_type": "stream",
     "text": [
      "2\n"
     ]
    }
   ],
   "source": [
    "# Задача 4\n",
    "n = int(input('Введите целое число '))\n",
    "if n == 0:\n",
    "  print(0)\n",
    "elif n == 1 or n == 2:\n",
    "  print(1)\n",
    "else:\n",
    "  a = (((((1 + 5 ** 0.5)) / 2) ** n) - ((((1 - 5 ** 0.5)) / 2) ** n)) / (5 ** 0.5)\n",
    "  print(int(a))"
   ]
  },
  {
   "cell_type": "code",
   "execution_count": 15,
   "id": "9938bc14-bf5d-4b2a-b033-66c575814f91",
   "metadata": {},
   "outputs": [
    {
     "name": "stdin",
     "output_type": "stream",
     "text": [
      "Введите число секунд  53628\n"
     ]
    },
    {
     "name": "stdout",
     "output_type": "stream",
     "text": [
      "14:53:48\n"
     ]
    }
   ],
   "source": [
    "# Задача 5\n",
    "a = int(input('Введите число секунд '))\n",
    "h = a // 3600\n",
    "if a % 3600 != 0:\n",
    "  m = a % 3600\n",
    "else:\n",
    "  m = 0\n",
    "if (a % 3600) < 60:\n",
    "  m = 0\n",
    "else:\n",
    "  m = (a % 3600) // 60\n",
    "if (a % 3600) % 60 != 0:\n",
    "  s = (a % 3600) % 60\n",
    "else:\n",
    "  s = 0\n",
    "print(h, m, s, sep = ':')"
   ]
  },
  {
   "cell_type": "code",
   "execution_count": 17,
   "id": "f818cf9a-6efd-4f58-8ae0-e5cfbe5d0c4c",
   "metadata": {},
   "outputs": [
    {
     "name": "stdin",
     "output_type": "stream",
     "text": [
      "Как Вас зовут?  Петя\n",
      "Ваша фамилия  Иванов\n",
      "Сколько Вам лет?  15\n"
     ]
    },
    {
     "name": "stdout",
     "output_type": "stream",
     "text": [
      "Имя:  Петя\n",
      "Фамилия:  Иванов\n",
      "Возраст:  15\n"
     ]
    }
   ],
   "source": [
    "# 1 (LT)\n",
    "a = input('Как Вас зовут? ')\n",
    "b = input('Ваша фамилия ')\n",
    "c = input('Сколько Вам лет? ')\n",
    "print('Имя: ', a)\n",
    "print('Фамилия: ', b)\n",
    "print('Возраст: ', c)"
   ]
  },
  {
   "cell_type": "code",
   "execution_count": 18,
   "id": "bab12e0e-563a-4380-92cf-a2f81d22e53a",
   "metadata": {},
   "outputs": [
    {
     "name": "stdin",
     "output_type": "stream",
     "text": [
      "Введите число 1:  3\n",
      "Введите число 2:  5\n",
      "Введите число 3:  1\n"
     ]
    },
    {
     "name": "stdout",
     "output_type": "stream",
     "text": [
      "Сумма 3, 5 и 1 равна 9\n"
     ]
    }
   ],
   "source": [
    "# 2 (LT)\n",
    "a = int(input('Введите число 1: '))\n",
    "b = int(input('Введите число 2: '))\n",
    "c = int(input('Введите число 3: '))\n",
    "print(f'Сумма {a}, {b} и {c} равна {a + b + c}')"
   ]
  },
  {
   "cell_type": "code",
   "execution_count": null,
   "id": "4fb92476-3cca-40aa-91b2-38e4c8f76f8b",
   "metadata": {},
   "outputs": [],
   "source": []
  }
 ],
 "metadata": {
  "kernelspec": {
   "display_name": "Python 3 (ipykernel)",
   "language": "python",
   "name": "python3"
  },
  "language_info": {
   "codemirror_mode": {
    "name": "ipython",
    "version": 3
   },
   "file_extension": ".py",
   "mimetype": "text/x-python",
   "name": "python",
   "nbconvert_exporter": "python",
   "pygments_lexer": "ipython3",
   "version": "3.9.13"
  }
 },
 "nbformat": 4,
 "nbformat_minor": 5
}
