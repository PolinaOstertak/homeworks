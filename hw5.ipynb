{
 "cells": [
  {
   "cell_type": "markdown",
   "metadata": {},
   "source": [
    "Задача 2.\n",
    "Изучите содержимое файла Maths.csv: выведите первые пять его строк с помощью модуля csv, напечатайте отдельно в столбик названия колонок."
   ]
  },
  {
   "cell_type": "code",
   "execution_count": 31,
   "metadata": {},
   "outputs": [
    {
     "name": "stdout",
     "output_type": "stream",
     "text": [
      "['GP', 'F', '18', 'U', 'GT3', 'A', '4', '4', 'at_home', 'teacher', 'course', 'mother', '2', '2', '0', 'yes', 'no', 'no', 'no', 'yes', 'yes', 'no', 'no', '4', '3', '4', '1', '1', '3', '6', '5', '6', '6']\n",
      "['GP', 'F', '17', 'U', 'GT3', 'T', '1', '1', 'at_home', 'other', 'course', 'father', '1', '2', '0', 'no', 'yes', 'no', 'no', 'no', 'yes', 'yes', 'no', '5', '3', '3', '1', '1', '3', '4', '5', '5', '6']\n",
      "['GP', 'F', '15', 'U', 'LE3', 'T', '1', '1', 'at_home', 'other', 'other', 'mother', '1', '2', '3', 'yes', 'no', 'yes', 'no', 'yes', 'yes', 'yes', 'no', '4', '3', '2', '2', '3', '3', '10', '7', '8', '10']\n",
      "['GP', 'F', '15', 'U', 'GT3', 'T', '4', '2', 'health', 'services', 'home', 'mother', '1', '3', '0', 'no', 'yes', 'yes', 'yes', 'yes', 'yes', 'yes', 'yes', '3', '2', '2', '1', '1', '5', '2', '15', '14', '15']\n",
      "['GP', 'F', '16', 'U', 'GT3', 'T', '3', '3', 'other', 'other', 'home', 'father', '1', '2', '0', 'no', 'yes', 'yes', 'no', 'yes', 'yes', 'no', 'no', '4', '3', '2', '1', '2', '5', '4', '6', '10', '10']\n",
      "school\n",
      "sex\n",
      "age\n",
      "address\n",
      "famsize\n",
      "Pstatus\n",
      "Medu\n",
      "Fedu\n",
      "Mjob\n",
      "Fjob\n",
      "reason\n",
      "guardian\n",
      "traveltime\n",
      "studytime\n",
      "failures\n",
      "schoolsup\n",
      "famsup\n",
      "paid\n",
      "activities\n",
      "nursery\n",
      "higher\n",
      "internet\n",
      "romantic\n",
      "famrel\n",
      "freetime\n",
      "goout\n",
      "Dalc\n",
      "Walc\n",
      "health\n",
      "absences\n",
      "G1\n",
      "G2\n",
      "G3\n"
     ]
    }
   ],
   "source": [
    "import csv\n",
    "\n",
    "data = []\n",
    "with open ('C:\\\\Users\\\\User\\\\OneDrive\\\\Рабочий стол\\\\Maths.csv') as csvfile:\n",
    "    reader = csv.reader(csvfile, delimiter=',', quotechar='\"')\n",
    "    for row in reader:\n",
    "        data.append(row)\n",
    "for a in data[1:6]:\n",
    "    print(a)\n",
    "for i in data[:1]:\n",
    "    for l in i:\n",
    "        print(l)"
   ]
  }
 ],
 "metadata": {
  "kernelspec": {
   "display_name": "Python 3",
   "language": "python",
   "name": "python3"
  },
  "language_info": {
   "codemirror_mode": {
    "name": "ipython",
    "version": 3
   },
   "file_extension": ".py",
   "mimetype": "text/x-python",
   "name": "python",
   "nbconvert_exporter": "python",
   "pygments_lexer": "ipython3",
   "version": "3.9.13"
  }
 },
 "nbformat": 4,
 "nbformat_minor": 2
}
