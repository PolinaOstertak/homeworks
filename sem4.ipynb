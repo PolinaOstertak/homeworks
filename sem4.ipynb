{
 "cells": [
  {
   "cell_type": "markdown",
   "metadata": {},
   "source": [
    "Задача 1. Даны четыре действительных числа: x1, y1, x2, y2. Напишите функцию distance(x1, y1, x2, y2), вычисляющая расстояние между точкой (x1, y1) и (x2, y2). Считайте четыре действительных числа и выведите результат работы этой функции."
   ]
  },
  {
   "cell_type": "code",
   "execution_count": 1,
   "metadata": {},
   "outputs": [
    {
     "name": "stdout",
     "output_type": "stream",
     "text": [
      "3.605551275463989\n"
     ]
    }
   ],
   "source": [
    "def distance(x1, y1, x2, y2):\n",
    "  return ((x2 - x1) ** 2 + (y2 - y1) ** 2) ** 0.5\n",
    "d = distance(int(input()), int(input()), int(input()), int(input()))\n",
    "print(d)"
   ]
  },
  {
   "cell_type": "markdown",
   "metadata": {},
   "source": [
    "Задача 3. Напишите генераторную функцию, которая будет принимать строку с каким-нибудь длинным предложением и возвращать по одному слову из этого предложения в верхнем регистре."
   ]
  },
  {
   "cell_type": "code",
   "execution_count": 2,
   "metadata": {},
   "outputs": [
    {
     "name": "stdout",
     "output_type": "stream",
     "text": [
      "EBJEB\n",
      "HEIUH\n",
      "WHH\n",
      "HFBEHF\n"
     ]
    }
   ],
   "source": [
    "def up(s):\n",
    "  for i in s.split():\n",
    "    yield i.upper()\n",
    "d = up(input())\n",
    "for i in d:\n",
    "  print(i)"
   ]
  },
  {
   "cell_type": "markdown",
   "metadata": {},
   "source": [
    "Задача 4 (*). Дан список кортежей, в каждом из которых по два элемента (можно считать его с клавиатуры в цикле while, вводя кортежи парами через пробел). Превратите его в два кортежа, чтобы в первом были только элементы с нулевым индексом, а во втором - с первым."
   ]
  },
  {
   "cell_type": "code",
   "execution_count": 3,
   "metadata": {},
   "outputs": [
    {
     "name": "stdout",
     "output_type": "stream",
     "text": [
      "('1', '2') ('a', 'b')\n"
     ]
    }
   ],
   "source": [
    "L = []\n",
    "n = 2\n",
    "while n > 0:\n",
    "  a = input().split()\n",
    "  b = tuple(a)\n",
    "  L.append(b)\n",
    "  n -= 1\n",
    "c = tuple(L[0])\n",
    "d = tuple(L[1])\n",
    "e = (c[0], d[0])\n",
    "f = (c[1], d[1])\n",
    "print(e, f)"
   ]
  },
  {
   "cell_type": "markdown",
   "metadata": {},
   "source": [
    "Задача 5. Дан список слов (можно считать его через одну строку с помощью split()). Без циклов верните список, состоящий из длин этих слов."
   ]
  },
  {
   "cell_type": "code",
   "execution_count": 4,
   "metadata": {},
   "outputs": [
    {
     "data": {
      "text/plain": [
       "[3, 5, 4]"
      ]
     },
     "execution_count": 4,
     "metadata": {},
     "output_type": "execute_result"
    }
   ],
   "source": [
    "a = input().split()\n",
    "d = (len(x) for x in a)\n",
    "list(d)"
   ]
  },
  {
   "cell_type": "markdown",
   "metadata": {},
   "source": [
    "Задача 6. Соберите множество всех кириллических букв любым способом (либо с использованием функций ord() и char(), либо с использованием строк)."
   ]
  },
  {
   "cell_type": "code",
   "execution_count": 5,
   "metadata": {},
   "outputs": [
    {
     "name": "stdout",
     "output_type": "stream",
     "text": [
      "{'г', 'у', 'ъ', 'й', 'ц', 'м', 'щ', 'ё', 'т', 'з', 'о', 'д', 'п', 'а', 'ы', 'ш', 'е', 'р', 'с', 'в', 'э', 'ю', 'ж', 'ь', 'б', 'н', 'х', 'к', 'л', 'я', 'и', 'ч', 'ф'}\n"
     ]
    }
   ],
   "source": [
    "c = set('абвгдеёжзийклмнопрстуфхцчшщъыьэюя')\n",
    "print(c)"
   ]
  },
  {
   "cell_type": "code",
   "execution_count": 6,
   "metadata": {},
   "outputs": [
    {
     "name": "stdout",
     "output_type": "stream",
     "text": [
      "{'г', 'у', 'ъ', 'й', 'ц', 'м', 'щ', 'ё', 'т', 'з', 'о', 'д', 'п', 'а', 'ы', 'ш', 'е', 'р', 'с', 'в', 'э', 'ю', 'ж', 'ь', 'б', 'н', 'х', 'к', 'л', 'я', 'и', 'ч', 'ф'}\n"
     ]
    }
   ],
   "source": [
    "C = set([chr(i) for i in range(ord('а'), ord('ж'))] + [chr(i) for i in range(ord('ё'),ord('ё') + 1)] + [chr(i) for i in range(ord('ж'), ord('я') + 1)])\n",
    "print(C)"
   ]
  },
  {
   "cell_type": "markdown",
   "metadata": {},
   "source": [
    "Задача 7. Воспользуйтесь собранным множеством букв из задачи 2 и напишите функцию, которая будет проверять строку на то, является ли она кириллическим словом. Отфильтруйте список, состоящий из слов, с помощью этой функции таким образом, чтобы остались только кириллические слова."
   ]
  },
  {
   "cell_type": "code",
   "execution_count": 7,
   "metadata": {},
   "outputs": [
    {
     "data": {
      "text/plain": [
       "['мама', 'дом', 'пакет', 'печенье']"
      ]
     },
     "execution_count": 7,
     "metadata": {},
     "output_type": "execute_result"
    }
   ],
   "source": [
    "def cyr(w):\n",
    "  L = []\n",
    "  for i in w:\n",
    "    if C.intersection(set(i)):\n",
    "      L.append(i)\n",
    "  return L\n",
    "a = cyr(input().split())\n",
    "a"
   ]
  },
  {
   "cell_type": "markdown",
   "metadata": {},
   "source": [
    "Задача 8. Даны два списка чисел. Найдите все числа, которые входят как в первый, так и во второй список, и выведите их в порядке возрастания."
   ]
  },
  {
   "cell_type": "code",
   "execution_count": 8,
   "metadata": {},
   "outputs": [
    {
     "name": "stdout",
     "output_type": "stream",
     "text": [
      "['4', '5', '6']\n"
     ]
    }
   ],
   "source": [
    "A = input().split()\n",
    "B = input().split()\n",
    "print(sorted(set(A).intersection(set(B))))"
   ]
  },
  {
   "cell_type": "markdown",
   "metadata": {},
   "source": [
    "Задача 9. Напишите функцию lexdiv(), которая считает лексическое разнообразие в тексте. Лексическое разноообразие - это количество уникальных слов, поделенное на количество всех слов в тексте. Посчитайте лексическое разнообразие для любого англоязычного и русскоязычного текста примерно одинаковой длины."
   ]
  },
  {
   "cell_type": "code",
   "execution_count": 9,
   "metadata": {},
   "outputs": [
    {
     "name": "stdout",
     "output_type": "stream",
     "text": [
      "0.96\n",
      "0.704225352112676\n"
     ]
    }
   ],
   "source": [
    "def lexdiv(T):\n",
    "  A = []\n",
    "  T = T.replace(',', '').replace('.','')\n",
    "  T = T.split()\n",
    "  for i in T:\n",
    "    if i not in A:\n",
    "      A.append(i)\n",
    "  return len(A) / len(T)\n",
    "r = lexdiv(\"\"\"Республиканская партия большинством голосов поддержала выдвижение Джима Джордана на должность спикера Палаты представителей, передает Associated Press. Его поддерживал Дональд Трамп. Господин Джордан выступал против поддержки Украины. Джиму Джордану 59 лет. Председатель юридического комитета Палаты представителей, один из основателей консервативной фракции в нижней палате Конгресса. Представляет четвертый избирательный округ штата Огайо.\"\"\")\n",
    "print(r)\n",
    "e = lexdiv(\"\"\"If you normally wear eyeglasses, keep them on and put eclipse glasses over them or hold a handheld viewer in front of them, according to the American Astronomical Society. Put on your eclipse glasses before looking up and remember to turn away from the sun before you remove them again.Always keep an eye on any children wearing eclipse glasses to make sure they don’t remove them while looking at the sun.\"\"\")\n",
    "print(e)\n"
   ]
  },
  {
   "cell_type": "markdown",
   "metadata": {},
   "source": [
    "Задача 10. Напишите функцию printmatrix(), которая будет красиво выводить матрицу в печать."
   ]
  },
  {
   "cell_type": "code",
   "execution_count": 10,
   "metadata": {},
   "outputs": [
    {
     "name": "stdout",
     "output_type": "stream",
     "text": [
      "1 2 3\n",
      "4 5 6\n",
      "7 8 9\n"
     ]
    }
   ],
   "source": [
    "def printmatrix(m):\n",
    "  for row in m:\n",
    "    print(*row)\n",
    "d = printmatrix([[1, 2, 3], [4, 5, 6], [7, 8, 9]])"
   ]
  },
  {
   "cell_type": "markdown",
   "metadata": {},
   "source": [
    "Задача 11. Напишите функцию generate_unitary(), которая будет генерировать единичную матрицу размера n."
   ]
  },
  {
   "cell_type": "code",
   "execution_count": 11,
   "metadata": {},
   "outputs": [
    {
     "name": "stdout",
     "output_type": "stream",
     "text": [
      "1 0 0 0\n",
      "0 1 0 0\n",
      "0 0 1 0\n",
      "0 0 0 1\n"
     ]
    }
   ],
   "source": [
    "def generate_unitary(n):\n",
    "  return [[1 if i==j else 0 for j in range(n)] for i in range(n)]\n",
    "m = generate_unitary(int(input()))\n",
    "for row in m:\n",
    "  print(*row)"
   ]
  }
 ],
 "metadata": {
  "kernelspec": {
   "display_name": "Python 3",
   "language": "python",
   "name": "python3"
  },
  "language_info": {
   "codemirror_mode": {
    "name": "ipython",
    "version": 3
   },
   "file_extension": ".py",
   "mimetype": "text/x-python",
   "name": "python",
   "nbconvert_exporter": "python",
   "pygments_lexer": "ipython3",
   "version": "3.9.13"
  }
 },
 "nbformat": 4,
 "nbformat_minor": 2
}
