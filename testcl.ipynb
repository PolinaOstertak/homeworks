{
 "cells": [
  {
   "cell_type": "code",
   "execution_count": 19,
   "metadata": {},
   "outputs": [
    {
     "name": "stdout",
     "output_type": "stream",
     "text": [
      "m = 22\n",
      "e = 5\n",
      "m / e = 4.4\n",
      "N = 51\n",
      "m / N = 0.43137254901960786\n"
     ]
    }
   ],
   "source": [
    "import pyconll\n",
    "\n",
    "def find_dative_constructions(file_path):\n",
    "    file = pyconll.load_from_file(file_path)\n",
    "    dative = []\n",
    "    adj = []\n",
    "\n",
    "    for sentence in file:\n",
    "        for token in sentence:\n",
    "\n",
    "           if token.deprel == 'iobj' and token.upos == 'PRON':\n",
    "              \n",
    "\n",
    "                head_token = next((t for t in sentence if t.id == token.head), None)\n",
    "\n",
    "                if head_token and head_token.deprel == 'root' and head_token.upos == 'ADJ'and head_token.form.endswith('о'):\n",
    "                   dative.append(token.form)\n",
    "                   adj.append(head_token.form)\n",
    "    return dative, adj\n",
    "sg1 = 'мне'\n",
    "m = str(dative).lower().count(sg1)\n",
    "print('m =', m)\n",
    "sg3_1 = 'ей' \n",
    "sg3_2 = 'ему'\n",
    "e = str(dative).lower().count(sg3_1) + str(dative).lower().count(sg3_2)\n",
    "print('e =', e)\n",
    "print('m / e =', m / e)\n",
    "N = len(adj)\n",
    "print('N =', N)\n",
    "print('m / N =', m / N)"
   ]
  }
 ],
 "metadata": {
  "kernelspec": {
   "display_name": "Python 3",
   "language": "python",
   "name": "python3"
  },
  "language_info": {
   "codemirror_mode": {
    "name": "ipython",
    "version": 3
   },
   "file_extension": ".py",
   "mimetype": "text/x-python",
   "name": "python",
   "nbconvert_exporter": "python",
   "pygments_lexer": "ipython3",
   "version": "3.9.13"
  }
 },
 "nbformat": 4,
 "nbformat_minor": 2
}
