{
 "cells": [
  {
   "cell_type": "markdown",
   "metadata": {},
   "source": [
    "Задача 1. Ученики одной школы все знают хотя бы по одному языку. Программа получает число школьников, а потом в цикле for собирает сведения о их языках. Нужно узнать, какие языки знает хотя бы один школьник и какие языки знают все школьники."
   ]
  },
  {
   "cell_type": "code",
   "execution_count": 1,
   "metadata": {},
   "outputs": [
    {
     "name": "stdout",
     "output_type": "stream",
     "text": [
      "{'English', 'Russian'}\n",
      "{'French', 'German', 'English', 'Russian', 'Spanish'}\n"
     ]
    }
   ],
   "source": [
    "n = int(input())\n",
    "S = []\n",
    "for i in range(n):\n",
    "  a = set(input().split())\n",
    "  S.append(a)\n",
    "  n -= 1\n",
    "print(set.intersection(*S))\n",
    "print(set.union(*S))"
   ]
  },
  {
   "cell_type": "markdown",
   "metadata": {},
   "source": [
    "Задача 2. Напишите функцию, которая будет принимать строку, в которой содержится любой текст (положим, русскоязычный), и возвращать список, содержащий только слова (для удаления пунктуации можно воспользоваться punctuation из модуля string, если хочется). Если умеете пользоваться регулярками - можно использовать регулярки.\n",
    "\n",
    "Посчитайте частотный список слов для текста в этой строке."
   ]
  },
  {
   "cell_type": "code",
   "execution_count": 2,
   "metadata": {},
   "outputs": [
    {
     "name": "stdout",
     "output_type": "stream",
     "text": [
      "['отсутствие', 'центральной', 'канализации', 'становится', 'настоящей', 'проблемой', 'для', 'загородных', 'поселков', 'и', 'дачных', 'обществ', 'производственных', 'предприятий', 'и', 'баз', 'отдыха', 'решить', 'вопрос', 'отвода', 'и', 'очистки', 'стоков', 'помогут', 'локальные', 'сооружения', 'предназначенные', 'для', 'доведения', 'загрязненной', 'воды', 'до', 'уровня', 'позволяющего', 'ее', 'повторно', 'использовать', 'или', 'сбрасывать', 'в', 'природные', 'водоемы']\n",
      "Counter({'и': 3, 'для': 2, 'отсутствие': 1, 'центральной': 1, 'канализации': 1, 'становится': 1, 'настоящей': 1, 'проблемой': 1, 'загородных': 1, 'поселков': 1, 'дачных': 1, 'обществ': 1, 'производственных': 1, 'предприятий': 1, 'баз': 1, 'отдыха': 1, 'решить': 1, 'вопрос': 1, 'отвода': 1, 'очистки': 1, 'стоков': 1, 'помогут': 1, 'локальные': 1, 'сооружения': 1, 'предназначенные': 1, 'доведения': 1, 'загрязненной': 1, 'воды': 1, 'до': 1, 'уровня': 1, 'позволяющего': 1, 'ее': 1, 'повторно': 1, 'использовать': 1, 'или': 1, 'сбрасывать': 1, 'в': 1, 'природные': 1, 'водоемы': 1})\n"
     ]
    }
   ],
   "source": [
    "from collections import Counter\n",
    "\n",
    "\n",
    "def words(s):\n",
    "  s = s.replace('.', '').replace(',','').replace(' - ', ' ').replace(';', '').replace(':', '')\n",
    "  S = list(s.lower().split())\n",
    "  return S\n",
    "d = words(input())\n",
    "print(d)\n",
    "c = Counter(d)\n",
    "print(c)"
   ]
  },
  {
   "cell_type": "code",
   "execution_count": 3,
   "metadata": {},
   "outputs": [
    {
     "name": "stdout",
     "output_type": "stream",
     "text": [
      "['отсутствие', 'центральной', 'канализации', 'становится', 'настоящей', 'проблемой', 'для', 'загородных', 'поселков', 'и', 'дачных', 'обществ', 'производственных', 'предприятий', 'и', 'баз', 'отдыха', 'решить', 'вопрос', 'отвода', 'и', 'очистки', 'стоков', 'помогут', 'локальные', 'сооружения', 'предназначенные', 'для', 'доведения', 'загрязненной', 'воды', 'до', 'уровня', 'позволяющего', 'ее', 'повторно', 'использовать', 'или', 'сбрасывать', 'в', 'природные', 'водоемы']\n",
      "Counter({'и': 3, 'для': 2, 'отсутствие': 1, 'центральной': 1, 'канализации': 1, 'становится': 1, 'настоящей': 1, 'проблемой': 1, 'загородных': 1, 'поселков': 1, 'дачных': 1, 'обществ': 1, 'производственных': 1, 'предприятий': 1, 'баз': 1, 'отдыха': 1, 'решить': 1, 'вопрос': 1, 'отвода': 1, 'очистки': 1, 'стоков': 1, 'помогут': 1, 'локальные': 1, 'сооружения': 1, 'предназначенные': 1, 'доведения': 1, 'загрязненной': 1, 'воды': 1, 'до': 1, 'уровня': 1, 'позволяющего': 1, 'ее': 1, 'повторно': 1, 'использовать': 1, 'или': 1, 'сбрасывать': 1, 'в': 1, 'природные': 1, 'водоемы': 1})\n"
     ]
    }
   ],
   "source": [
    "from collections import Counter\n",
    "\n",
    "\n",
    "def words(s):\n",
    "  s = ''.join(filter(lambda x: x.isalpha() or x.isdigit() or x.isspace(), s))\n",
    "  S = list(s.lower().split())\n",
    "  return S\n",
    "d = words(input())\n",
    "print(d)\n",
    "c = Counter(d)\n",
    "print(c)"
   ]
  },
  {
   "cell_type": "markdown",
   "metadata": {},
   "source": [
    "Задача 3. Положим, у нас есть список со вложенными списками (глубина вложенности может быть какая угодно: это может быть список списков списков...). Напишите функцию, которая будет рекурсивно обходить все элементы в этих списках и посчитает, сколько всего встретилось уникальных элементов. Считаем, что эти элементы - целые числа (вам понадобится проверять type(x) == int)."
   ]
  },
  {
   "cell_type": "code",
   "execution_count": 4,
   "metadata": {},
   "outputs": [
    {
     "name": "stdout",
     "output_type": "stream",
     "text": [
      "7\n"
     ]
    }
   ],
   "source": [
    "def what(uni):\n",
    "  return(len(set(uni)))\n",
    "def uni(l):\n",
    "    if type(l) == int:\n",
    "        return([l])\n",
    "    else:\n",
    "        if len(l) == 1:\n",
    "            return(uni(l[0]))\n",
    "        else:\n",
    "            res = uni(l[0]) + uni(l[1:])\n",
    "            return(res)\n",
    "\n",
    "print(what(uni([1, 2, 3, [4, [5, 6, 2, 3, [4, 5, 6, [7]]]]])))"
   ]
  },
  {
   "cell_type": "markdown",
   "metadata": {},
   "source": [
    "Задача 4. Напишите функцию для сложения матриц."
   ]
  },
  {
   "cell_type": "code",
   "execution_count": 5,
   "metadata": {},
   "outputs": [
    {
     "data": {
      "text/plain": [
       "[[5, 7, 9], [6, 9, 6]]"
      ]
     },
     "execution_count": 5,
     "metadata": {},
     "output_type": "execute_result"
    }
   ],
   "source": [
    "def sum(M1, M2):\n",
    "  L = []\n",
    "  for i in range(len(M1)):\n",
    "    K =[]\n",
    "    for j in range(len(M1[i])):\n",
    "      s = M1[i][j] + M2[i][j]\n",
    "      K.append(s)\n",
    "    L.append(K)\n",
    "  return L\n",
    "d = sum([[1, 2, 3], [3, 4, 5]], [[4, 5, 6], [3, 5, 1]])\n",
    "d"
   ]
  },
  {
   "cell_type": "markdown",
   "metadata": {},
   "source": [
    "Задача 5. Напишите функцию для умножения матриц."
   ]
  },
  {
   "cell_type": "code",
   "execution_count": 6,
   "metadata": {},
   "outputs": [
    {
     "data": {
      "text/plain": [
       "[[28, 2, 48], [3, 10, 10]]"
      ]
     },
     "execution_count": 6,
     "metadata": {},
     "output_type": "execute_result"
    }
   ],
   "source": [
    "def multi(M1, M2):\n",
    "  L = []\n",
    "  for i in range(len(M1)):\n",
    "    K =[]\n",
    "    for j in range(len(M1[i])):\n",
    "      s = M1[i][j] * M2[i][j]\n",
    "      K.append(s)\n",
    "    L.append(K)\n",
    "  return L\n",
    "d = multi([[4, 2, 8], [3, 2, 5]], [[7, 1, 6], [1, 5, 2]])\n",
    "d"
   ]
  },
  {
   "cell_type": "markdown",
   "metadata": {},
   "source": [
    "Задача 6. Напишите функцию, которая генерирует матрицу сдвига. У функции должно быть два параметра: n (размер матрицы) и bias (на сколько столбцов сдвигать)."
   ]
  },
  {
   "cell_type": "code",
   "execution_count": 7,
   "metadata": {},
   "outputs": [
    {
     "name": "stdout",
     "output_type": "stream",
     "text": [
      "0 0 1 0 0 0\n",
      "0 0 0 1 0 0\n",
      "0 0 0 0 1 0\n",
      "0 0 0 0 0 1\n",
      "0 0 0 0 0 0\n",
      "0 0 0 0 0 0\n"
     ]
    }
   ],
   "source": [
    "def shift(n, bias):\n",
    "  L = []\n",
    "  for i in range(n):\n",
    "    L.append([])\n",
    "    for j in range(n):\n",
    "      if i + bias == j:\n",
    "        L[i].append(1)\n",
    "      else:\n",
    "        L[i].append(0)\n",
    "  return L\n",
    "d = shift(int(input()), int(input()))\n",
    "for row in d:\n",
    "  print(*row)"
   ]
  },
  {
   "cell_type": "markdown",
   "metadata": {},
   "source": [
    "Задача 7. Напишите функцию transpose(m), которая будет транспонировать матрицу."
   ]
  },
  {
   "cell_type": "code",
   "execution_count": 8,
   "metadata": {},
   "outputs": [
    {
     "data": {
      "text/plain": [
       "[[1, 3], [2, 4], [3, 5]]"
      ]
     },
     "execution_count": 8,
     "metadata": {},
     "output_type": "execute_result"
    }
   ],
   "source": [
    "def transpose(m):\n",
    "  L = []\n",
    "  for i in range(len(m[0])):\n",
    "    K =[]\n",
    "    for j in range(len(m)):\n",
    "      s = m[j][i]\n",
    "      K.append(s)\n",
    "    L.append(K)\n",
    "  return L\n",
    "d = transpose([[1, 2, 3], [3, 4, 5]])\n",
    "d"
   ]
  }
 ],
 "metadata": {
  "kernelspec": {
   "display_name": "Python 3",
   "language": "python",
   "name": "python3"
  },
  "language_info": {
   "codemirror_mode": {
    "name": "ipython",
    "version": 3
   },
   "file_extension": ".py",
   "mimetype": "text/x-python",
   "name": "python",
   "nbconvert_exporter": "python",
   "pygments_lexer": "ipython3",
   "version": "3.9.13"
  }
 },
 "nbformat": 4,
 "nbformat_minor": 2
}
