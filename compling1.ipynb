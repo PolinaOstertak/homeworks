{
 "cells": [
  {
   "cell_type": "markdown",
   "metadata": {},
   "source": [
    "Задание 1"
   ]
  },
  {
   "cell_type": "code",
   "execution_count": 45,
   "metadata": {},
   "outputs": [
    {
     "name": "stdout",
     "output_type": "stream",
     "text": [
      "['▁In', '▁a', '▁hole', '▁in', '▁the', '▁g', 'ro', 'und', '▁the', 're', '▁li', 'ved', '▁a', '▁hobbit', '▁No', 't', '▁a', '▁n', 'asty', '▁d', 'ir', 'ty', '▁w', 'et', '▁hole', '▁fi', 'lled', '▁with', '▁the', '▁e', 'nds', '▁of', '▁w', 'or', 'ms', '▁and', '▁an', '▁o', 'ozy', '▁s', 'me', 'll', '▁n', 'or', '▁y', 'et', '▁a', '▁d', 'ry', '▁b', 'are', '▁sa', 'ndy', '▁hole', '▁with', '▁no', 'th', 'ing', '▁in', '▁it', '▁to', '▁s', 'it', '▁down', '▁on', '▁or', '▁to', '▁e', 'at', '▁it', '▁was', '▁a', '▁hobbit', '-', 'hole', '▁and', '▁th', 'at', '▁me', 'ans', '▁comfort', '▁It', '▁had', '▁a', '▁p', 'er', 'fe', 'ctly', '▁round', '▁door', '▁like', '▁a', '▁p', 'or', 'th', 'ole', '▁p', 'ain', 'ted', '▁g', 're', 'en', '▁with', '▁a', '▁s', 'hin', 'y', '▁y', 'ell', 'ow', '▁br', 'ass', '▁k', 'nob', '▁in', '▁the', '▁e', 'xa', 'ct', '▁m', 'id', 'dle', '▁The', '▁door', '▁opened', '▁on', '▁to', '▁a', '▁tu', 'be', '-', 'sh', 'aped', '▁ha', 'll', '▁like', '▁a', '▁tunnel', '▁a', '▁', 'ver', 'y', '▁comfort', 'able', '▁tunnel', '▁with', 'out', '▁s', 'mo', 'ke', '▁with', '▁pan', 'el', 'led', '▁w', 'alls', '▁and', '▁flo', 'ors', '▁ti', 'led', '▁and', '▁c', 'arp', 'et', 'ed', '▁p', 'rov', 'id', 'ed', '▁with', '▁p', 'oli', 'sh', 'ed', '▁ch', 'airs', '▁and', '▁lots', '▁and', '▁lots', '▁of', '▁pe', 'gs', '▁for', '▁ha', 'ts', '▁and', '▁c', 'oa', 'ts', '▁the', '▁hobbit', '▁was', '▁f', 'ond', '▁of', '▁v', 'is', 'it', 'ors', '▁The', '▁tunnel', '▁wo', 'und', '▁on', '▁and', '▁on', '▁going', '▁f', 'air', 'ly', '▁b', 'ut', '▁no', 't', '▁qu', 'ite', '▁s', 'tr', 'ai', 'ght', '▁in', 'to', '▁the', '▁side', '▁of', '▁the', '▁h', 'ill', '▁The', '▁H', 'ill', '▁as', '▁all', '▁the', '▁pe', 'op', 'le', '▁for', '▁many', '▁m', 'ile', 's', '▁round', '▁ca', 'lled', '▁it', '▁and', '▁many', '▁l', 'itt', 'le', '▁round', '▁door', 's', '▁opened', '▁o', 'ut', '▁of', '▁it', '▁f', 'ir', 'st', '▁on', '▁on', 'e', '▁side', '▁and', '▁the', 'n', '▁on', '▁a', 'no', 'the', 'r', '▁No', '▁going', '▁up', 'st', 'airs', '▁for', '▁the', '▁hobbit', '▁b', 'ed', 'rooms', '▁b', 'ath', 'rooms', '▁c', 'ell', 'ars', '▁pan', 'tri', 'es', '▁lots', '▁of', '▁these', '▁w', 'ard', 'ro', 'bes', '▁h', 'e', '▁had', '▁w', 'hole', '▁rooms', '▁de', 'vo', 'ted', '▁to', '▁c', 'lo', 'the', 's', '▁k', 'it', 'che', 'ns', '▁d', 'in', 'ing', '-', 'rooms', '▁all', '▁were', '▁on', '▁the', '▁same', '▁flo', 'or', '▁and', '▁i', 'nd', 'eed', '▁on', '▁the', '▁same', '▁p', 'ass', 'age', '▁The', '▁b', 'est', '▁rooms', '▁were', '▁all', '▁on', '▁the', '▁le', 'fth', 'and', '▁side', '▁going', '▁in', '▁for', '▁these', '▁were', '▁the', '▁on', 'ly', '▁on', 'es', '▁to', '▁ha', 've', '▁windows', '▁de', 'ep', '-', 'set', '▁round', '▁windows', '▁lo', 'ok', 'ing', '▁o', 'ver', '▁h', 'is', '▁g', 'ard', 'en', '▁and', '▁me', 'ad', 'ows', '▁b', 'ey', 'ond', '▁s', 'lop', 'ing', '▁down', '▁to', '▁the', '▁ri', 'ver']\n",
      "400\n"
     ]
    }
   ],
   "source": [
    "!pip install sentencepiece\n",
    "import sentencepiece as spm\n",
    "# sentencepiece подходит для BPE, если установить --model_type=bpe\n",
    "\n",
    "spm.SentencePieceTrainer.train('--input=hobbit.txt --model_prefix=m_bpe --vocab_size=265 --model_type=bpe')\n",
    "# для обучения нужен файл\n",
    "# если задавать vocab_size = 400, то на выходе в словаре почему-то получается не 400 токенов, поэтому задаю другое значение\n",
    "sp_bpe = spm.SentencePieceProcessor()\n",
    "sp_bpe.load('m_bpe.model')\n",
    "text = '''In a hole in the ground there lived a hobbit. Not a nasty, dirty, wet hole, filled with the ends of worms and an oozy smell, nor yet a dry, bare, sandy hole with nothing in it to sit down on or to eat: it was a hobbit-hole, and that\n",
    "means comfort.\n",
    "It had a perfectly round door like a porthole, painted green, with a shiny yellow brass knob in the exact middle. The door opened on to a tube-shaped hall like a tunnel: a very comfortable tunnel without smoke, with panelled walls, and floors tiled and carpeted, provided with polished chairs, and lots and lots of pegs for hats and coats - the hobbit was fond of visitors. The tunnel wound on and on, going fairly but not quite straight into the side of the hill - The Hill, as all the people for many miles round called it - and many little round doors opened out of it, first on one side and then on another.\n",
    "No going upstairs for the hobbit: bedrooms, bathrooms, cellars, pantries (lots of these), wardrobes (he had whole\n",
    "rooms devoted to clothes), kitchens, dining-rooms, all were on the same floor, and indeed on the same passage.\n",
    "The best rooms were all on the lefthand side (going in), for these were the only ones to have windows, deep-set round windows looking over his garden, and meadows beyond, sloping down to the river.'''\n",
    "text = text.replace('(', '').replace(')', '').replace('.', '').replace(',', '').replace(':', '').replace(' - ', ' ').replace('\\n', ' ')\n",
    "# Т.к. текст заранее известен убрала вручную пунктуацию\n",
    "print(sp_bpe.encode_as_pieces(text)) # вывод словаря\n",
    "print(len(sp_bpe.encode_as_pieces(text))) # проверяю количество токенов в получившемся словаре"
   ]
  },
  {
   "cell_type": "markdown",
   "metadata": {},
   "source": [
    "Задание 3"
   ]
  },
  {
   "cell_type": "code",
   "execution_count": 46,
   "metadata": {},
   "outputs": [
    {
     "data": {
      "text/plain": [
       "['tom.j57-ri@mail.ru', 'Hbyef_uhuif@gmail.com']"
      ]
     },
     "execution_count": 46,
     "metadata": {},
     "output_type": "execute_result"
    }
   ],
   "source": [
    "import re\n",
    "\n",
    "text = 'fgiug begfe vygey tom.j57-ri@mail.ru figfiu bfbui Hbyef_uhuif@gmail.com hvuv'\n",
    "p = r'\\b[a-zA-z0-9\\-\\_\\.*]*@[a-z.+]+\\.[a-z]+\\b'\n",
    "pattern = re.compile(p)\n",
    "re.findall(pattern, text)"
   ]
  },
  {
   "cell_type": "code",
   "execution_count": 47,
   "metadata": {},
   "outputs": [
    {
     "data": {
      "text/plain": [
       "[('questions', 'docx'),\n",
       " ('Letter', 'txt'),\n",
       " ('StringFinder', 'exe'),\n",
       " ('TravelBrochure', 'pdf'),\n",
       " ('1', 'pdf')]"
      ]
     },
     "execution_count": 47,
     "metadata": {},
     "output_type": "execute_result"
    }
   ],
   "source": [
    "text = 'унакгу C:\\\\Users\\\\User\\\\OneDrive\\\\Рабочий стол\\\\questions.docx grhiuh huirht hiy4h /home/user/docs/Letter.txt угеек анпегуе \\\\Program Files\\\\Custom Utilities\\\\StringFinder.exe рпаоп магнпке ..\\\\Publications\\\\TravelBrochure.pdf грашк ргре /home/rrrfer/Pictures/1.pdf jjd'\n",
    "p = r'(?:[A-Za-z]:\\\\|\\\\|\\/|\\..\\\\).*?(?<=\\\\|\\/)([^\\\\|\\/]+?)(?=\\.)\\.(\\w*)'\n",
    "pattern = re.compile(p)\n",
    "re.findall(pattern, text)"
   ]
  },
  {
   "cell_type": "code",
   "execution_count": 48,
   "metadata": {},
   "outputs": [
    {
     "data": {
      "text/plain": [
       "[('Time', 'Обычно', 'обычно', '#frequentative_adverbs_adj', 'FREQUENTATIVE'),\n",
       " ('Experiencer_Metaphoric', 'бюджет', 'бюджет', 'бюджет', 'BUDGET'),\n",
       " ('', 'ко', 'к', '#preposition', 'PREPOSITION'),\n",
       " ('OrderInTimeAndSpace', 'второму', 'второй', '', 'TWO_ORDINAL'),\n",
       " ('Object_Situation', 'чтению ', 'чтение', '', 'READING_OF_THE_DRAFT_LAW'),\n",
       " ('Predicate', 'готовится', 'готовить', 'готовить', 'PREPAREDNESS'),\n",
       " ('DegreeApproximative',\n",
       "  'непосредственно',\n",
       "  'непосредственный',\n",
       "  '',\n",
       "  'DIRECT_OBLIQUE'),\n",
       " ('', 'в', 'в_Prepositional', '#preposition', 'PREPOSITION'),\n",
       " ('Locative', 'Думе', 'дума', 'дума', 'DUMA'),\n",
       " ('Agent', 'депутаты', 'депутат', 'депутат', 'DEPUTY'),\n",
       " ('Specification_Clause',\n",
       "  'корректируют',\n",
       "  'корректировать',\n",
       "  'корректировать',\n",
       "  'TO_CORRECT'),\n",
       " ('Agent',\n",
       "  'правительственные',\n",
       "  'правительство',\n",
       "  'правительство',\n",
       "  'GOVERNMENT'),\n",
       " ('Object_Situation', 'планы', 'план', 'план', 'SCHEDULE_FOR_ACTIVITY')]"
      ]
     },
     "execution_count": 48,
     "metadata": {},
     "output_type": "execute_result"
    }
   ],
   "source": [
    "text = '#[[Time: Обычно\"обычно:#frequentative_adverbs_adj:FREQUENTATIVE\"] [Experiencer_Metaphoric: бюджет\"бюджет:бюджет:BUDGET\"] [[ко\"к:#preposition:PREPOSITION\"] [OrderInTimeAndSpace: второму\"второй:TWO_ORDINAL\"] Object_Situation: чтению \"чтение:READING_OF_THE_DRAFT_LAW\"] Predicate: готовится\"готовить:готовить:PREPAREDNESS\" [[DegreeApproximative: непосредственно\"непосредственный:DIRECT_OBLIQUE\"] [в\"в_Prepositional:#preposition:PREPOSITION\"] Locative: Думе\"дума:дума:DUMA\"]#: [[Agent: депутаты\"депутат:депутат:DEPUTY\"] Specification_Clause: корректируют\"корректировать:корректировать:TO_CORRECT\" [[Agent: правительственные\"правительство:правительство:GOVERNMENT\"] Object_Situation: планы\"план:план:SCHEDULE_FOR_ACTIVITY\"]]].'\n",
    "p = r'(\\w*?)(?!\\\"):? ?([а-я].*?|[А-Я][а-я].*?)\\\"((?:[^\\\"\\]\\[]+?)):([^:A-Z]+)?:?([A-Z].*?)(?=\\\")'\n",
    "pattern = re.compile(p)\n",
    "re.findall(pattern, text)"
   ]
  }
 ],
 "metadata": {
  "kernelspec": {
   "display_name": "Python 3",
   "language": "python",
   "name": "python3"
  },
  "language_info": {
   "codemirror_mode": {
    "name": "ipython",
    "version": 3
   },
   "file_extension": ".py",
   "mimetype": "text/x-python",
   "name": "python",
   "nbconvert_exporter": "python",
   "pygments_lexer": "ipython3",
   "version": "3.9.13"
  }
 },
 "nbformat": 4,
 "nbformat_minor": 2
}
