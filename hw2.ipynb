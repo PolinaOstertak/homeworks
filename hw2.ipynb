{
 "cells": [
  {
   "cell_type": "markdown",
   "metadata": {},
   "source": [
    "Задача 1. Пользователь вводит с клавиатуры какие-то числа (необходимо считывать их в цикле), пока не введет ноль. Нужно посчитать стандартное отклонение по формуле из википедии."
   ]
  },
  {
   "cell_type": "code",
   "execution_count": null,
   "metadata": {},
   "outputs": [],
   "source": [
    "l = 0\n",
    "p = 0\n",
    "x = int(input())\n",
    "n = 0\n",
    "while x != 0:\n",
    "  n += 1\n",
    "  l += x\n",
    "  p += x ** 2\n",
    "  x = int(input())\n",
    "print(((p - (l ** 2 )/ n) / (n -1)) ** 0.5)"
   ]
  },
  {
   "cell_type": "markdown",
   "metadata": {},
   "source": [
    "Задача 2. Пользователь вводит какие-то целые числа в бесконечном цикле, пока не введет ноль; программа должна выводить введенное число и согласовать с ним слово \"кролик\""
   ]
  },
  {
   "cell_type": "code",
   "execution_count": null,
   "metadata": {},
   "outputs": [],
   "source": [
    "n = input()\n",
    "while n != '0':\n",
    "  if n.endswith('11') or n.endswith('12') or n.endswith('13') or n.endswith('14'):\n",
    "    print(f'{n} кроликов')\n",
    "  elif n.endswith('1'):\n",
    "    print(f'{n} кролик')\n",
    "  elif n.endswith('2') or n.endswith('3') or n.endswith('4'):\n",
    "    print(f'{n} кролика')\n",
    "  else:\n",
    "    print(f'{n} кроликов')\n",
    "  n = input()"
   ]
  },
  {
   "cell_type": "markdown",
   "metadata": {},
   "source": [
    "Задача 3. Пользователь вводит целые (не обязательно положительные) числа. Программа должна вывести самое большое введенное число."
   ]
  },
  {
   "cell_type": "code",
   "execution_count": null,
   "metadata": {},
   "outputs": [],
   "source": [
    "n = int(input())\n",
    "m = 0\n",
    "for i in range (n):\n",
    "  i = int(input())\n",
    "  if i > m:\n",
    "    m = i\n",
    "  n -= 1\n",
    "  continue\n",
    "print(m)"
   ]
  },
  {
   "cell_type": "markdown",
   "metadata": {},
   "source": [
    "Задача 4. Пользователь вводит с клавиатуры в бесконечном цикле разные вещи. Если он ввел целое число, нужно его возвести в квадрат; если он ввел слово, нужно вывести это слово в верхнем регистре; если он ввел любое количество пробельных символов, цикл завершается."
   ]
  },
  {
   "cell_type": "code",
   "execution_count": null,
   "metadata": {},
   "outputs": [],
   "source": [
    "while True:\n",
    "  a = input()\n",
    "  if a.isdigit():\n",
    "    print((int(a)) ** 2)\n",
    "  elif a.isalpha():\n",
    "    print(a.upper())\n",
    "  elif ' ' in a:\n",
    "    break"
   ]
  },
  {
   "cell_type": "markdown",
   "metadata": {},
   "source": [
    "Задача 5. Программа загадывает число от 1 до 1023. Игрок пытается угадать это число, и у него есть 10 попыток. Если игрок вводит загаданное число, программа поздравляет его и заканчивает работу. Иначе программа должна напечатать, введённое число больше или меньше загаданного. Если все 10 попыток неудачны - программа должна написать, что попытки кончились, вывести загаданное число, и предложить сыграть в игру заново (при этом число должно быть загадано другое). Если пользователь вводит число меньше, чем 1, или больше, чем 1023, программа должна об этом сообщить - но не засчитывать попытку (т.е., это не считается неудачной попыткой)."
   ]
  },
  {
   "cell_type": "code",
   "execution_count": null,
   "metadata": {},
   "outputs": [],
   "source": [
    "from random import randint\n",
    "n = randint(1, 1024)\n",
    "p = 0\n",
    "while True:\n",
    "  a = int(input())\n",
    "  if a < n:\n",
    "    print('Введенное число меньше задуманного')\n",
    "    p += 1\n",
    "  elif a > n:\n",
    "    print('Введенное число больше задуманного')\n",
    "    p += 1\n",
    "  else:\n",
    "    print('Ура, Вы угадали!')\n",
    "    break\n",
    "  if a < 1 or a > 1023:\n",
    "    print('Число должно быть больше 1 и меньше 1023')\n",
    "    p -= 1\n",
    "  if p == 10:\n",
    "    print('Попытки закончились')\n",
    "    break"
   ]
  },
  {
   "cell_type": "markdown",
   "metadata": {},
   "source": [
    "Задача 6. Правильные скобки. На вход подается строка, которая содержит только и исключительно скобки трех видов: круглые, квадратные и фигурные. Например, '{[([({})])]}'. Ваша задача - написать программу, которая бы проверяла правильность последовательности скобок и возвращала True или False."
   ]
  },
  {
   "cell_type": "code",
   "execution_count": null,
   "metadata": {},
   "outputs": [],
   "source": [
    "a = input()\n",
    "while '{}' in a or '[]' in a or '()' in a:\n",
    "  a = a.replace('{}', '')\n",
    "  a = a.replace('[]', '')\n",
    "  a = a.replace('()', '')\n",
    "if a:\n",
    "    print('False')\n",
    "else:\n",
    "    print('True')"
   ]
  },
  {
   "cell_type": "markdown",
   "metadata": {},
   "source": [
    "Задача 7. Занудная: выведите с помощью цикла порядковые номера всех букв русского алфавита (ё можно отдельно), заглавных и строчных. Посмотрите, есть ли между ними что-нибудь."
   ]
  },
  {
   "cell_type": "code",
   "execution_count": null,
   "metadata": {},
   "outputs": [],
   "source": [
    "n = ord('А') - 1\n",
    "while n < ord('я'):\n",
    "  n += 1\n",
    "  print(n)\n",
    "print(ord('Ё'))\n",
    "print(ord('ё'))\n",
    "for x in range(ord('Ё') + 1, ord('А')):\n",
    "  print(chr(x))\n",
    "for y in range(ord('я') + 1, ord('ё')):\n",
    "  print(chr(y))"
   ]
  },
  {
   "cell_type": "markdown",
   "metadata": {},
   "source": [
    "для латинских"
   ]
  },
  {
   "cell_type": "code",
   "execution_count": null,
   "metadata": {},
   "outputs": [],
   "source": [
    "n = ord('A') - 1\n",
    "while n < ord('Z'):\n",
    "  n += 1\n",
    "  print(n)\n",
    "m = ord('a') - 1\n",
    "while m < ord('z'):\n",
    "  m += 1\n",
    "  print(m)\n",
    "for i in range(ord('Z') + 1, ord('a')):\n",
    "  print(chr(i))"
   ]
  },
  {
   "cell_type": "markdown",
   "metadata": {},
   "source": [
    "Задача 8. Шифр Цезаря: самый простой способ зашифровать текст - это сопоставить буквы алфавита со сдвигом, то есть, например, со сдвигом 2 - заменить все а на в, б на г, в на е и так далее. Подробнее есть в Википедии, конечно же, а еще можно поиграться с ним здесь. Напишите программу, которая будет принимать строчку, зашифрованную таким шифром (с неизвестным сдвигом), и пытаться расшифровать ее."
   ]
  },
  {
   "cell_type": "code",
   "execution_count": null,
   "metadata": {},
   "outputs": [],
   "source": [
    "a = [chr(i) for i in range(ord('а'), ord('я') + 1)]\n",
    "s = input()\n",
    "n = len(a)\n",
    "for i in range(n):\n",
    "    t = ''\n",
    "    for c in s:\n",
    "        if c != ' ':\n",
    "            t += a[(a.index(c)+i) % n]\n",
    "        else:\n",
    "            t += c\n",
    "    print(t)"
   ]
  }
 ],
 "metadata": {
  "kernelspec": {
   "display_name": "Python 3",
   "language": "python",
   "name": "python3"
  },
  "language_info": {
   "name": "python",
   "version": "3.9.13"
  },
  "orig_nbformat": 4
 },
 "nbformat": 4,
 "nbformat_minor": 2
}
